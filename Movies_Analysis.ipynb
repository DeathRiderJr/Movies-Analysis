{
  "nbformat": 4,
  "nbformat_minor": 0,
  "metadata": {
    "colab": {
      "provenance": [],
      "mount_file_id": "1YC5xAqzvhlWAYkZ3D-sR99-_8b_F4Fxc",
      "authorship_tag": "ABX9TyPJM74gSZgg9tR4eIcAVrk3",
      "include_colab_link": true
    },
    "kernelspec": {
      "name": "python3",
      "display_name": "Python 3"
    },
    "language_info": {
      "name": "python"
    }
  },
  "cells": [
    {
      "cell_type": "markdown",
      "metadata": {
        "id": "view-in-github",
        "colab_type": "text"
      },
      "source": [
        "<a href=\"https://colab.research.google.com/github/DeathRiderJr/Movies-Analysis/blob/main/Movies_Analysis.ipynb\" target=\"_parent\"><img src=\"https://colab.research.google.com/assets/colab-badge.svg\" alt=\"Open In Colab\"/></a>"
      ]
    },
    {
      "cell_type": "code",
      "execution_count": null,
      "metadata": {
        "colab": {
          "base_uri": "https://localhost:8080/"
        },
        "id": "aRvCwXieEL6P",
        "outputId": "1be67f8a-a7d5-44e9-f3f7-ce4e5168861e"
      },
      "outputs": [
        {
          "output_type": "stream",
          "name": "stdout",
          "text": [
            "Enter the name of the movie:\n",
            "Make sure to use the exact name \n",
            "For example Thor: Ragnarok or Our Godfather Our Godfather\n",
            "\n",
            "Movie Details:\n",
            "Title: Our Godfather\n",
            "Country: United Kingdom\n",
            "Release Year: 2019\n",
            "Added on Netflix: September 10, 2019\n",
            "Rating: TV-MA\n",
            "Director: Mark Franchetti, Andrew Meier\n",
            "Cast: Tommaso Buscetta\n",
            "Description: In 1986, Tommaso Buscetta became the first top-level Mafia boss ever to testify against the mob. It cost him and his family everything.\n"
          ]
        }
      ],
      "source": [
        "import pandas as pd\n",
        "\n",
        "dataset_file = '/content/drive/MyDrive/Colab Notebooks/Netflix Movies.csv'\n",
        "\n",
        "def search_movie():\n",
        "    # Get the name of the movie from the user\n",
        "    movie_name = input(\"Enter the name of the movie:\\nMake sure to use the exact name \\nFor example Thor: Ragnarok or Our Godfather \")\n",
        "\n",
        "    # Search for the movie in the dataset\n",
        "    movie_data = df[df['title'].str.lower() == movie_name.lower()]\n",
        "\n",
        "    # Check if the movie is found\n",
        "    if movie_data.empty:\n",
        "        print(f\"Movie '{movie_name}' not found in the dataset.\")\n",
        "    else:\n",
        "        # Display information about the movie\n",
        "        print(\"\\nMovie Details:\")\n",
        "        print(f\"Title: {movie_data['title'].values[0]}\")\n",
        "        print(f\"Country: {movie_data['country'].values[0]}\")\n",
        "        print(f\"Release Year: {movie_data['release_year'].values[0]}\")\n",
        "        print(f\"Added on Netflix: {movie_data['date_added'].values[0]}\")\n",
        "        print(f\"Rating: {movie_data['rating'].values[0]}\")\n",
        "        print(f\"Director: {movie_data['director'].values[0]}\")\n",
        "        print(f\"Cast: {movie_data['cast'].values[0]}\")\n",
        "        print(f\"Description: {movie_data['description'].values[0]}\")\n",
        "\n",
        "# Call the function to search for a movie\n",
        "search_movie()\n"
      ]
    }
  ]
}